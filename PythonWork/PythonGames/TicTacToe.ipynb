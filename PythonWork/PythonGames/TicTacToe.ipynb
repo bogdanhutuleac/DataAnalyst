{
 "cells": [
  {
   "cell_type": "markdown",
   "metadata": {},
   "source": [
    "# Project 1: \n"
   ]
  },
  {
   "cell_type": "markdown",
   "metadata": {},
   "source": [
    "#### Some suggested tools before you get started:\n",
    "To take input from a user:\n",
    "\n",
    "    player1 = input(\"Please pick a marker 'X' or 'O'\")\n",
    "    \n",
    "Note that input() takes in a string. If you need an integer value, use\n",
    "\n",
    "    position = int(input('Please enter a number'))\n",
    "    \n",
    "<br>To clear the screen between moves:\n",
    "\n",
    "    from IPython.display import clear_output\n",
    "    clear_output()\n",
    "    \n",
    "Note that clear_output() will only work in jupyter. To clear the screen in other IDEs, consider:\n",
    "\n",
    "    print('\\n'*100)\n",
    "    \n",
    "This scrolls the previous board up out of view. Now on to the program!"
   ]
  },
  {
   "cell_type": "markdown",
   "metadata": {},
   "source": [
    "**Step 1: Write a function that can print out a board. Set up your board as a list, where each index 1-9 corresponds with a number on a number pad, so you get a 3 by 3 board representation.**"
   ]
  },
  {
   "cell_type": "code",
   "execution_count": 1,
   "metadata": {},
   "outputs": [],
   "source": [
    "from IPython.display import clear_output\n",
    "\n",
    "def display_board(board):\n",
    "    clear_output()\n",
    "    print(board[7] + \" | \" + board[8] + \" | \" + board[9])\n",
    "    print(\"----------\")\n",
    "    print(board[4] + \" | \" + board[5] + \" | \" + board[6])  \n",
    "    print(\"----------\")    \n",
    "    print(board[1] + \" | \" + board[2] + \" | \" + board[3])   \n",
    "    "
   ]
  },
  {
   "cell_type": "code",
   "execution_count": null,
   "metadata": {},
   "outputs": [],
   "source": []
  },
  {
   "cell_type": "markdown",
   "metadata": {},
   "source": [
    " run your function on a test version of the board list, and make adjustments as necessary"
   ]
  },
  {
   "cell_type": "code",
   "execution_count": 2,
   "metadata": {},
   "outputs": [
    {
     "name": "stdout",
     "output_type": "stream",
     "text": [
      "X | O | X\n",
      "----------\n",
      "O | X | O\n",
      "----------\n",
      "X | O | X\n"
     ]
    }
   ],
   "source": [
    "test_board = ['#','X','O','X','O','X','O','X','O','X']\n",
    "display_board(test_board)"
   ]
  },
  {
   "cell_type": "markdown",
   "metadata": {},
   "source": [
    "**2: Write a function that can take in a player input and assign their marker as 'X' or 'O'. Think about using *while* loops to continually ask until you get a correct answer.**"
   ]
  },
  {
   "cell_type": "code",
   "execution_count": 3,
   "metadata": {},
   "outputs": [],
   "source": [
    "def player_input():\n",
    "    while True:\n",
    "        user_input = input(\"Are you going to be X or O?\")\n",
    "        if user_input == 'X':\n",
    "            return user_input\n",
    "        elif user_input == 'O':\n",
    "            return user_input\n",
    "        else:\n",
    "            print(\"Wrong input!\")\n",
    "            continue\n",
    "    "
   ]
  },
  {
   "cell_type": "code",
   "execution_count": null,
   "metadata": {},
   "outputs": [],
   "source": [
    "def player_input():\n",
    "    '''\n",
    "    Output =  (player 1 marker, player 2 marker)\n",
    "    '''\n",
    "    marker = ''\n",
    "    #keep asking player 1 to cheose X or O\n",
    "    while marker != 'X' and marker != 'O':\n",
    "        marker = input('Player 1,chose X or O: ')\n",
    "    #Assign player 2, the opposite marker\n",
    "    player1 = marker\n",
    "    if player1 == 'X':\n",
    "        player2 = 'O'\n",
    "    else:\n",
    "        player2 = 'X'\n",
    "    return (player1,player2) #return a tuple"
   ]
  },
  {
   "cell_type": "code",
   "execution_count": null,
   "metadata": {},
   "outputs": [],
   "source": [
    "player1_marker, player2_marker = player_input()#Tuples unpacking, you just assign first value to player1_marker variable and second to player2_marker"
   ]
  },
  {
   "cell_type": "markdown",
   "metadata": {},
   "source": [
    "**2:** run the function to make sure it returns the desired output"
   ]
  },
  {
   "cell_type": "code",
   "execution_count": 4,
   "metadata": {},
   "outputs": [],
   "source": [
    "#player_input() # marker = player_input"
   ]
  },
  {
   "cell_type": "markdown",
   "metadata": {},
   "source": [
    "**3: Write a function that takes in the board list object, a marker ('X' or 'O'), and a desired position (number 1-9) and assigns it to the board.**"
   ]
  },
  {
   "cell_type": "markdown",
   "metadata": {
    "collapsed": true
   },
   "source": [
    "def place_marker(board, marker, position):\n",
    "    #ask for a desire postion\n",
    "    position = 'wrong'\n",
    "    in_range = range(1,10)\n",
    "    choice = False\n",
    "    \n",
    "    while choice == False:\n",
    "        position = input(\"Enter a position in range of 1-9: \")\n",
    "        #Check if position is a digit\n",
    "        if position.isdigit():\n",
    "            #Check if the number is in range\n",
    "            if int(position) in in_range: \n",
    "                board[int(position)] = marker\n",
    "                choice = True\n",
    "            else:\n",
    "                print(\"Wrong, you need to input a number between 1-9!\")\n",
    "                continue\n",
    "        else:\n",
    "            print(\"Wrong, that's not a number!\")\n",
    "            continue\n",
    "    return board\n",
    "            "
   ]
  },
  {
   "cell_type": "code",
   "execution_count": 6,
   "metadata": {},
   "outputs": [],
   "source": [
    "def place_marker(board, marker, position):\n",
    "    board[position] = marker\n",
    "    return board\n",
    "            "
   ]
  },
  {
   "cell_type": "markdown",
   "metadata": {},
   "source": [
    "**3:** run the place marker function using test parameters and display the modified board"
   ]
  },
  {
   "cell_type": "code",
   "execution_count": 7,
   "metadata": {},
   "outputs": [
    {
     "name": "stdout",
     "output_type": "stream",
     "text": [
      "X | $ | X\n",
      "----------\n",
      "O | X | O\n",
      "----------\n",
      "X | O | X\n"
     ]
    }
   ],
   "source": [
    "place_marker(test_board,'$',8)\n",
    "display_board(test_board)"
   ]
  },
  {
   "cell_type": "markdown",
   "metadata": {},
   "source": [
    "**4:** Write a function that takes in a board and a mark (X or O) and then checks to see if that mark has won. **"
   ]
  },
  {
   "cell_type": "code",
   "execution_count": 8,
   "metadata": {},
   "outputs": [],
   "source": [
    "def win_check(board, mark):\n",
    "    \n",
    "        #win tic tac toe\n",
    "        \n",
    "        # row\n",
    "        \n",
    "        if board[1:4] == [mark,mark,mark]:\n",
    "            return True\n",
    "        elif board[4:7] == [mark,mark,mark]:\n",
    "            return True\n",
    "        elif board[7:10] == [mark,mark,mark]:\n",
    "            return True\n",
    "        \n",
    "        #columns\n",
    "        \n",
    "        elif board[1:8:3] == [mark,mark,mark]:\n",
    "            return True\n",
    "        elif board[2:9:3] == [mark,mark,mark]:\n",
    "            return True\n",
    "        elif board[3:10:3] == [mark,mark,mark]:\n",
    "            return True\n",
    "        \n",
    "        #diagonals\n",
    "        \n",
    "        elif board[1:10:4] == [mark,mark,mark]:\n",
    "            return True\n",
    "        elif board[3:8:2] == [mark,mark,mark]:\n",
    "            return True\n",
    "        else:\n",
    "            return False"
   ]
  },
  {
   "cell_type": "code",
   "execution_count": null,
   "metadata": {},
   "outputs": [],
   "source": []
  },
  {
   "cell_type": "markdown",
   "metadata": {},
   "source": [
    " run the win_check function against our test_board - it should return True"
   ]
  },
  {
   "cell_type": "code",
   "execution_count": 9,
   "metadata": {},
   "outputs": [
    {
     "data": {
      "text/plain": [
       "True"
      ]
     },
     "execution_count": 9,
     "metadata": {},
     "output_type": "execute_result"
    }
   ],
   "source": [
    "win_check(test_board,'X')"
   ]
  },
  {
   "cell_type": "markdown",
   "metadata": {},
   "source": [
    "**5: Write a function that uses the random module to randomly decide which player goes first. You may want to lookup random.randint() Return a string of which player went first.**"
   ]
  },
  {
   "cell_type": "code",
   "execution_count": 10,
   "metadata": {},
   "outputs": [],
   "source": [
    "import random\n",
    "\n",
    "def choose_first():\n",
    "    x = random.randint(1,2)\n",
    "    print(f\"Player {x} goes first!\")\n",
    "    return x"
   ]
  },
  {
   "cell_type": "code",
   "execution_count": null,
   "metadata": {},
   "outputs": [],
   "source": [
    "import random\n",
    "\n",
    "def choose_first():\n",
    "    flip = ranom.randint(0,1)\n",
    "    \n",
    "    if flip == 0:\n",
    "        return 'player 1'\n",
    "    else:\n",
    "        return 'player 2'"
   ]
  },
  {
   "cell_type": "markdown",
   "metadata": {},
   "source": [
    "**6: Write a function that returns a boolean indicating whether a space on the board is freely available.**"
   ]
  },
  {
   "cell_type": "code",
   "execution_count": 11,
   "metadata": {},
   "outputs": [],
   "source": [
    "def space_check(board, position):\n",
    "    \n",
    "    if board[position] == ' ':\n",
    "        return True\n",
    "    else:\n",
    "        return False\n",
    "        "
   ]
  },
  {
   "cell_type": "code",
   "execution_count": null,
   "metadata": {},
   "outputs": [],
   "source": [
    "def space_check(board, position):\n",
    "    return board[position] == ' '"
   ]
  },
  {
   "cell_type": "markdown",
   "metadata": {},
   "source": [
    "**7: Write a function that checks if the board is full and returns a boolean value. True if full, False otherwise.**"
   ]
  },
  {
   "cell_type": "code",
   "execution_count": 12,
   "metadata": {},
   "outputs": [],
   "source": [
    "def full_board_check(board):\n",
    "    count = 0\n",
    "    for i in board:\n",
    "        if i == ' ':\n",
    "            count += 1\n",
    "    #print(board)\n",
    "    if count > 0:\n",
    "        return False\n",
    "    else:\n",
    "        return True"
   ]
  },
  {
   "cell_type": "code",
   "execution_count": null,
   "metadata": {},
   "outputs": [],
   "source": [
    "def full_board_check(board):\n",
    "    for i in range(1,10):\n",
    "        if space_check(board,i):\n",
    "            return False\n",
    "        #board is full\n",
    "        return True"
   ]
  },
  {
   "cell_type": "markdown",
   "metadata": {},
   "source": [
    "**8: Write a function that asks for a player's next position (as a number 1-9) and then uses the function from step 6 to check if it's a free position. If it is, then return the position for later use.**"
   ]
  },
  {
   "cell_type": "code",
   "execution_count": 13,
   "metadata": {},
   "outputs": [],
   "source": [
    "def player_choice(board):\n",
    "    check = False\n",
    "    while check == False:\n",
    "        position = int(input(\"What is you're next position?\"))\n",
    "        if space_check(board,position) == True:\n",
    "            check = True\n",
    "            return position\n",
    "        else:\n",
    "            continue\n",
    "    "
   ]
  },
  {
   "cell_type": "code",
   "execution_count": null,
   "metadata": {},
   "outputs": [],
   "source": [
    "def player_choice(board):\n",
    "    position = 0\n",
    "    while position not in [1,2,3,4,5,6,7,8,9] or not space_check(board,position):\n",
    "        position = int(input('Choose a position: (1-9)'))\n",
    "    return position"
   ]
  },
  {
   "cell_type": "markdown",
   "metadata": {},
   "source": [
    "**9: Write a function that asks the player if they want to play again and returns a boolean True if they do want to play again.**"
   ]
  },
  {
   "cell_type": "code",
   "execution_count": 14,
   "metadata": {},
   "outputs": [],
   "source": [
    "def replay():\n",
    "    play_again = 'Play'\n",
    "    keep = False\n",
    "    while keep == False:\n",
    "        play_again = input(\"Do you want to keep plaing? 'Yes' or 'No' \")\n",
    "        if play_again.lower() == 'yes':\n",
    "            return True\n",
    "        elif play_again.lower() == 'no':\n",
    "            return False\n",
    "        else:\n",
    "            print(\"Wrong answer, please answer with Yes or No\")"
   ]
  },
  {
   "cell_type": "code",
   "execution_count": null,
   "metadata": {},
   "outputs": [],
   "source": [
    "def replay():\n",
    "    choice = input(\"Play again? Enter Yes or No\")\n",
    "    return choice == 'Yes'"
   ]
  },
  {
   "cell_type": "markdown",
   "metadata": {
    "collapsed": true
   },
   "source": [
    "**10: Here comes the hard part! Use while loops and the functions you've made to run the game!**"
   ]
  },
  {
   "cell_type": "code",
   "execution_count": null,
   "metadata": {},
   "outputs": [],
   "source": [
    "print('Welcome to Tic Tac Toe!')\n",
    "#new_board = ['#','1','2','3','4','5','6','7','8','9']\n",
    "#display_board(new_board)\n",
    "#replay()\n",
    "while True:\n",
    "    \n",
    "    board = ['#'] + [' '] * 9\n",
    "    mark = ['X','O']\n",
    "    display_board(board)\n",
    "    player_turn = choose_first()\n",
    "    \n",
    "    # assign x, o to one of the player and the remaining mark to the other player\n",
    "    \n",
    "    if player_turn == 1:\n",
    "        player1 = player_input()\n",
    "        mark.remove(player1)\n",
    "        player2 = mark[0]\n",
    "    else:\n",
    "        player2 = player_input()\n",
    "        mark.remove(player2)\n",
    "        player1 = mark[0]\n",
    "\n",
    "    print(player1)\n",
    "    print(player2)\n",
    "    \n",
    "    #Game play\n",
    "    \n",
    "    while True:\n",
    "        display_board(board)\n",
    "        \n",
    "        #Player 1 Turn\n",
    "        if player_turn == 1:\n",
    "            print(\"Player 1:\")\n",
    "            position = player_choice(board)\n",
    "            place_marker(board,player1,position)\n",
    "            player_turn = 2\n",
    "            if win_check(board,player1):\n",
    "                display_board(board)\n",
    "                print ('Player 1 won!')\n",
    "                break\n",
    "        display_board(board)\n",
    "        if full_board_check(board):\n",
    "            print('Drow')\n",
    "            break\n",
    "            \n",
    "        # Player2's turn.\n",
    "        if player_turn == 2:\n",
    "            print(\"Player 2\")\n",
    "            position = player_choice(board)\n",
    "            place_marker(board,player2,position)\n",
    "            player_turn = 1\n",
    "            if win_check(board,player2):\n",
    "                display_board(board)\n",
    "                print ('Player 2 won!')\n",
    "                break\n",
    "        if full_board_check(board):\n",
    "            print('Drow')\n",
    "            break\n",
    "            \n",
    "    if not replay():\n",
    "        break\n",
    "            \n"
   ]
  },
  {
   "cell_type": "code",
   "execution_count": null,
   "metadata": {},
   "outputs": [],
   "source": [
    "#while loop to keep runing the game\n",
    "print('Welcome to Tic Tac Toe')\n",
    "while True:\n",
    "    #PLay the game\n",
    "    \n",
    "    #Set everything up(board, who is first , chose markers x,o)\n",
    "    the_board = [' '] * 10\n",
    "    player1_marker,player2_marker = player_input()\n",
    "    \n",
    "    turn = choose_first()\n",
    "    print(turn+ ' will go first')\n",
    "    play_game = input('Ready to play? y or n?')\n",
    "    if play_game == 'y':\n",
    "        game_on = True\n",
    "    else:\n",
    "        game_on = False\n",
    "        \n",
    "    \n",
    "    #Game play\n",
    "    while game_on:\n",
    "        #Player 1 turn\n",
    "        if turn == 'Player 1':\n",
    "            #show board\n",
    "            display_board(the_board)\n",
    "            #choose the position\n",
    "            position = player_choice(the_bord)\n",
    "            #place the marker on the position\n",
    "            place_marker(the_board,player1_marker,position)\n",
    "            \n",
    "            #check if they won\n",
    "            if win_check(the_board,player1_marker):\n",
    "                display_board(the_board)\n",
    "                print('Player 1 has won')\n",
    "                game_on = False\n",
    "            else:\n",
    "                if full_board_check(the_board):\n",
    "                    display_board(the_board)\n",
    "                    print(\"Tie game!\")\n",
    "                    game_on = False\n",
    "                else:\n",
    "                    turn = 'Player 2'\n",
    "            \n",
    "            # or check if the board is full\n",
    "            \n",
    "            #no tie , no win? Then next players turn\n",
    "            \n",
    "    \n",
    "        #PLayer 2 turn\n",
    "        \n",
    "        else:\n",
    "            if turn == 'Player 2':\n",
    "            #show board\n",
    "            display_board(the_board)\n",
    "            #choose the position\n",
    "            position = player_choice(the_bord)\n",
    "            #place the marker on the position\n",
    "            place_marker(the_board,player2_marker,position)\n",
    "            \n",
    "            #check if they won\n",
    "            if win_check(the_board,player2_marker):\n",
    "                display_board(the_board)\n",
    "                print('Player 2 has won')\n",
    "                game_on = False\n",
    "            else:\n",
    "                if full_board_check(the_board):\n",
    "                    display_board(the_board)\n",
    "                    print(\"Tie game!\")\n",
    "                    game_on = False\n",
    "                else:\n",
    "                    turn = 'Player 1'\n",
    "\n",
    "    \n",
    "    if not replay()\n",
    "        break\n",
    "    #break out of the while loop on replay()"
   ]
  }
 ],
 "metadata": {
  "kernelspec": {
   "display_name": "Python 3",
   "language": "python",
   "name": "python3"
  },
  "language_info": {
   "codemirror_mode": {
    "name": "ipython",
    "version": 3
   },
   "file_extension": ".py",
   "mimetype": "text/x-python",
   "name": "python",
   "nbconvert_exporter": "python",
   "pygments_lexer": "ipython3",
   "version": "3.8.5"
  }
 },
 "nbformat": 4,
 "nbformat_minor": 1
}
